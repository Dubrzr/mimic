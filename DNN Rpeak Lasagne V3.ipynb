{
 "cells": [
  {
   "cell_type": "code",
   "execution_count": 1,
   "metadata": {
    "collapsed": false,
    "scrolled": false
   },
   "outputs": [
    {
     "name": "stderr",
     "output_type": "stream",
     "text": [
      "Using gpu device 0: GeForce GTX 1050 Ti (CNMeM is enabled with initial size: 95.0% of memory, cuDNN 5110)\n",
      "/home/jdu/anac3.5/lib/python3.5/site-packages/theano/sandbox/cuda/__init__.py:600: UserWarning: Your cuDNN version is more recent than the one Theano officially supports. If you see any problems, try updating Theano or downgrading cuDNN to version 5.\n",
      "  warnings.warn(warn)\n"
     ]
    }
   ],
   "source": [
    "from conf import databases, url, data_dir\n",
    "from file_utils import create_folder\n",
    "from nn import LasagneNN\n",
    "from preproc import shuffled_examples\n",
    "\n",
    "import numpy\n",
    "import random\n",
    "import time\n",
    "\n",
    "import lasagne\n",
    "from matplotlib import pyplot as plt\n",
    "import matplotlib as mpl"
   ]
  },
  {
   "cell_type": "code",
   "execution_count": 2,
   "metadata": {
    "collapsed": false
   },
   "outputs": [
    {
     "name": "stdout",
     "output_type": "stream",
     "text": [
      "[('mitdb', ['100', '101', '102', '103', '104', '105', '106', '107', '108', '109', '111', '112', '113', '114', '115', '116', '117', '118', '119', '121', '122', '123', '124', '200', '201', '202', '203', '205', '207', '208', '209', '210', '212', '213', '214', '215', '217', '219', '220', '221', '222', '223', '228', '230', '231', '232', '233', '234'])]\n"
     ]
    }
   ],
   "source": [
    "databases = [databases[0]]\n",
    "print(databases)"
   ]
  },
  {
   "cell_type": "code",
   "execution_count": 3,
   "metadata": {
    "collapsed": true
   },
   "outputs": [],
   "source": [
    "fs = 128\n",
    "fs_target = 360\n",
    "min_bpm = 10\n",
    "max_bpm = 350\n",
    "min_gap = fs*60/min_bpm\n",
    "max_gap = fs*60/max_bpm\n",
    "\n",
    "train_perc = 99\n",
    "test_perc = 100 - train_perc\n",
    "\n",
    "params = {\n",
    "    'fs_target': 360,\n",
    "    'segment_size': 5000, \n",
    "    'segment_step': 2500, \n",
    "    'normalized_steps': True,\n",
    "    'correct_peaks': True,\n",
    "    'left_border': 50, # samples\n",
    "    'right_border': 50, # samples\n",
    "    'min_gap': min_gap,\n",
    "    'max_gap': max_gap\n",
    "}"
   ]
  },
  {
   "cell_type": "code",
   "execution_count": 4,
   "metadata": {
    "collapsed": true
   },
   "outputs": [],
   "source": [
    "model_path = 'saved-models/170518'\n",
    "create_folder(model_path)\n",
    "save_name = model_path + '/model_1'"
   ]
  },
  {
   "cell_type": "code",
   "execution_count": 5,
   "metadata": {
    "collapsed": false
   },
   "outputs": [
    {
     "name": "stdout",
     "output_type": "stream",
     "text": [
      "Model shape:\n",
      "  Layer 0:\n",
      "    - size: 3\tnum: 8\n",
      "    - size: 15\tnum: 64\n",
      "    - size: 45\tnum: 64\n",
      "    - size: 89\tnum: 32\n",
      "    - size: 149\tnum: 16\n",
      "    - size: 199\tnum: 16\n",
      "    - size: 299\tnum: 16\n",
      "    - dropout: 0.5\n",
      "  Layer 1:\n",
      "    - size: 3\tnum: 8\n",
      "    - size: 9\tnum: 64\n",
      "    - size: 19\tnum: 64\n",
      "    - size: 39\tnum: 64\n",
      "    - dropout: 0.5\n",
      "  Layer 2:\n",
      "    - size: 3\tnum: 8\n",
      "    - size: 5\tnum: 32\n",
      "    - size: 9\tnum: 32\n",
      "    - size: 15\tnum: 32\n",
      "    - size: 19\tnum: 32\n",
      "    - dropout: 0.5\n",
      "  Layer 3:\n",
      "    - size: 3\tnum: 8\n",
      "    - size: 5\tnum: 32\n",
      "    - size: 15\tnum: 64\n",
      "    - dropout: 0.5\n",
      "  Layer 4:\n",
      "    - size: 5\tnum: 16\n",
      "    - size: 15\tnum: 16\n",
      "    - size: 19\tnum: 16\n",
      "    - dropout: 0.5\n",
      "  Layer 5:\n",
      "    - size: 3\tnum: 8\n",
      "    - size: 9\tnum: 16\n",
      "    - size: 15\tnum: 16\n",
      "    - dropout: 0.5\n",
      "Neural network initialized in 24.12s\n"
     ]
    }
   ],
   "source": [
    "from lasagne.nonlinearities import rectify\n",
    "architecture = [\n",
    "    (0.5, [\n",
    "            (3, 8, rectify, 'same'),\n",
    "            (15, 64, rectify, 'same'),\n",
    "            (45, 64, rectify, 'same'),\n",
    "            (89, 32, rectify, 'same'),\n",
    "            (149, 16, rectify, 'same'),\n",
    "            (199, 16, rectify, 'same'),\n",
    "            (299, 16, rectify, 'same'),\n",
    "    ]),\n",
    "    (0.5, [\n",
    "            (3, 8, rectify, 'same'),\n",
    "            (9, 64, rectify, 'same'),\n",
    "            (19, 64, rectify, 'same'),\n",
    "            (39, 64, rectify, 'same'),\n",
    "    ]),\n",
    "    (0.5, [\n",
    "            (3, 8, rectify, 'same'),\n",
    "            (5, 32, rectify, 'same'),\n",
    "            (9, 32, rectify, 'same'),\n",
    "            (15, 32, rectify, 'same'),\n",
    "            (19, 32, rectify, 'same'),\n",
    "    ]),\n",
    "    (0.5, [\n",
    "            (3, 8, rectify, 'same'),\n",
    "            (5, 32, rectify, 'same'),\n",
    "            (15, 64, rectify, 'same'),\n",
    "    ]),\n",
    "    (0.5, [\n",
    "            (5, 16, rectify, 'same'),\n",
    "            (15, 16, rectify, 'same'),\n",
    "            (19, 16, rectify, 'same'),\n",
    "    ]),\n",
    "    (0.5, [\n",
    "            (3, 8, rectify, 'same'),\n",
    "            (9, 16, rectify, 'same'),\n",
    "            (15, 16, rectify, 'same'),\n",
    "    ])\n",
    "]\n",
    "\n",
    "nn = LasagneNN(architecture, dim=1, params=params)"
   ]
  },
  {
   "cell_type": "code",
   "execution_count": 6,
   "metadata": {
    "collapsed": false,
    "scrolled": false
   },
   "outputs": [
    {
     "ename": "NameError",
     "evalue": "name 'numpy' is not defined",
     "output_type": "error",
     "traceback": [
      "\u001b[0;31m---------------------------------------------------------------------------\u001b[0m",
      "\u001b[0;31mNameError\u001b[0m                                 Traceback (most recent call last)",
      "\u001b[0;32m<ipython-input-6-bf5c2903eb1f>\u001b[0m in \u001b[0;36m<module>\u001b[0;34m()\u001b[0m\n\u001b[0;32m----> 1\u001b[0;31m \u001b[0mexs\u001b[0m \u001b[0;34m=\u001b[0m \u001b[0mshuffled_examples\u001b[0m\u001b[0;34m(\u001b[0m\u001b[0mdata_dir\u001b[0m\u001b[0;34m,\u001b[0m \u001b[0mdatabases\u001b[0m\u001b[0;34m,\u001b[0m \u001b[0;36m360\u001b[0m\u001b[0;34m,\u001b[0m \u001b[0;36m5000\u001b[0m\u001b[0;34m,\u001b[0m \u001b[0;36m2500\u001b[0m\u001b[0;34m,\u001b[0m \u001b[0;32mTrue\u001b[0m\u001b[0;34m,\u001b[0m \u001b[0;32mTrue\u001b[0m\u001b[0;34m)\u001b[0m\u001b[0;34m\u001b[0m\u001b[0m\n\u001b[0m\u001b[1;32m      2\u001b[0m \u001b[0mtrain_exs\u001b[0m \u001b[0;34m=\u001b[0m \u001b[0mexs\u001b[0m\u001b[0;34m[\u001b[0m\u001b[0;34m:\u001b[0m\u001b[0mint\u001b[0m\u001b[0;34m(\u001b[0m\u001b[0mlen\u001b[0m\u001b[0;34m(\u001b[0m\u001b[0mexs\u001b[0m\u001b[0;34m)\u001b[0m\u001b[0;34m*\u001b[0m\u001b[0mtrain_perc\u001b[0m\u001b[0;34m/\u001b[0m\u001b[0;36m100\u001b[0m\u001b[0;34m)\u001b[0m\u001b[0;34m]\u001b[0m\u001b[0;34m\u001b[0m\u001b[0m\n\u001b[1;32m      3\u001b[0m \u001b[0mtest_exs\u001b[0m  \u001b[0;34m=\u001b[0m \u001b[0mexs\u001b[0m\u001b[0;34m[\u001b[0m\u001b[0mint\u001b[0m\u001b[0;34m(\u001b[0m\u001b[0mlen\u001b[0m\u001b[0;34m(\u001b[0m\u001b[0mexs\u001b[0m\u001b[0;34m)\u001b[0m\u001b[0;34m*\u001b[0m\u001b[0mtrain_perc\u001b[0m\u001b[0;34m/\u001b[0m\u001b[0;36m100\u001b[0m\u001b[0;34m)\u001b[0m\u001b[0;34m:\u001b[0m\u001b[0;34m]\u001b[0m\u001b[0;34m\u001b[0m\u001b[0m\n\u001b[1;32m      4\u001b[0m \u001b[0mprint\u001b[0m\u001b[0;34m(\u001b[0m\u001b[0;34m'Number of examples: {} ({} samples)'\u001b[0m\u001b[0;34m.\u001b[0m\u001b[0mformat\u001b[0m\u001b[0;34m(\u001b[0m\u001b[0mlen\u001b[0m\u001b[0;34m(\u001b[0m\u001b[0mexs\u001b[0m\u001b[0;34m)\u001b[0m\u001b[0;34m,\u001b[0m \u001b[0mlen\u001b[0m\u001b[0;34m(\u001b[0m\u001b[0mexs\u001b[0m\u001b[0;34m)\u001b[0m\u001b[0;34m*\u001b[0m\u001b[0;36m5000\u001b[0m\u001b[0;34m)\u001b[0m\u001b[0;34m)\u001b[0m\u001b[0;34m\u001b[0m\u001b[0m\n\u001b[1;32m      5\u001b[0m \u001b[0mprint\u001b[0m\u001b[0;34m(\u001b[0m\u001b[0;34m'          Training: {} ({} samples)'\u001b[0m\u001b[0;34m.\u001b[0m\u001b[0mformat\u001b[0m\u001b[0;34m(\u001b[0m\u001b[0mlen\u001b[0m\u001b[0;34m(\u001b[0m\u001b[0mtrain_exs\u001b[0m\u001b[0;34m)\u001b[0m\u001b[0;34m,\u001b[0m \u001b[0mlen\u001b[0m\u001b[0;34m(\u001b[0m\u001b[0mtrain_exs\u001b[0m\u001b[0;34m)\u001b[0m\u001b[0;34m*\u001b[0m\u001b[0;36m5000\u001b[0m\u001b[0;34m)\u001b[0m\u001b[0;34m)\u001b[0m\u001b[0;34m\u001b[0m\u001b[0m\n",
      "\u001b[0;32m/media/jdu/mimic/mimiclol/preproc.py\u001b[0m in \u001b[0;36mshuffled_examples\u001b[0;34m(data_dir, dbs, fs_target, segment_size, segment_step, normalize_steps, correct_peaks)\u001b[0m\n\u001b[1;32m    125\u001b[0m     \u001b[0;32mfor\u001b[0m \u001b[0mdb\u001b[0m\u001b[0;34m,\u001b[0m \u001b[0mids\u001b[0m \u001b[0;32min\u001b[0m \u001b[0mdbs\u001b[0m\u001b[0;34m:\u001b[0m\u001b[0;34m\u001b[0m\u001b[0m\n\u001b[1;32m    126\u001b[0m         \u001b[0;32mfor\u001b[0m \u001b[0mi\u001b[0m \u001b[0;32min\u001b[0m \u001b[0mids\u001b[0m\u001b[0;34m:\u001b[0m\u001b[0;34m\u001b[0m\u001b[0m\n\u001b[0;32m--> 127\u001b[0;31m             \u001b[0;32mfor\u001b[0m \u001b[0mj\u001b[0m \u001b[0;32min\u001b[0m \u001b[0mrange\u001b[0m\u001b[0;34m(\u001b[0m\u001b[0mlen\u001b[0m\u001b[0;34m(\u001b[0m\u001b[0mload_steps\u001b[0m\u001b[0;34m(\u001b[0m\u001b[0mdata_dir\u001b[0m\u001b[0;34m,\u001b[0m \u001b[0mdb\u001b[0m\u001b[0;34m,\u001b[0m \u001b[0mi\u001b[0m\u001b[0;34m,\u001b[0m \u001b[0mfs_target\u001b[0m\u001b[0;34m,\u001b[0m \u001b[0msegment_size\u001b[0m\u001b[0;34m,\u001b[0m \u001b[0msegment_step\u001b[0m\u001b[0;34m,\u001b[0m \u001b[0mnormalize_steps\u001b[0m\u001b[0;34m,\u001b[0m \u001b[0mcorrect_peaks\u001b[0m\u001b[0;34m)\u001b[0m\u001b[0;34m)\u001b[0m\u001b[0;34m)\u001b[0m\u001b[0;34m:\u001b[0m\u001b[0;34m\u001b[0m\u001b[0m\n\u001b[0m\u001b[1;32m    128\u001b[0m                 \u001b[0mexs\u001b[0m\u001b[0;34m.\u001b[0m\u001b[0mappend\u001b[0m\u001b[0;34m(\u001b[0m\u001b[0;34m(\u001b[0m\u001b[0mdb\u001b[0m\u001b[0;34m,\u001b[0m \u001b[0mi\u001b[0m\u001b[0;34m,\u001b[0m \u001b[0mj\u001b[0m\u001b[0;34m)\u001b[0m\u001b[0;34m)\u001b[0m\u001b[0;34m\u001b[0m\u001b[0m\n\u001b[1;32m    129\u001b[0m     \u001b[0mnumpy\u001b[0m\u001b[0;34m.\u001b[0m\u001b[0mrandom\u001b[0m\u001b[0;34m.\u001b[0m\u001b[0mshuffle\u001b[0m\u001b[0;34m(\u001b[0m\u001b[0mexs\u001b[0m\u001b[0;34m)\u001b[0m\u001b[0;34m\u001b[0m\u001b[0m\n",
      "\u001b[0;32m/media/jdu/mimic/mimiclol/file_utils.py\u001b[0m in \u001b[0;36mload_steps\u001b[0;34m(data_dir, db, i, fs_target, segment_size, segment_step, normalized_steps, correct_peaks)\u001b[0m\n\u001b[1;32m    108\u001b[0m         \u001b[0mf\u001b[0m \u001b[0;34m+=\u001b[0m \u001b[0;34m'_corrected'\u001b[0m\u001b[0;34m\u001b[0m\u001b[0m\n\u001b[1;32m    109\u001b[0m     \u001b[0mf\u001b[0m \u001b[0;34m+=\u001b[0m \u001b[0;34m'.npy'\u001b[0m\u001b[0;34m\u001b[0m\u001b[0m\n\u001b[0;32m--> 110\u001b[0;31m     \u001b[0;32mreturn\u001b[0m \u001b[0mnumpy\u001b[0m\u001b[0;34m.\u001b[0m\u001b[0mload\u001b[0m\u001b[0;34m(\u001b[0m\u001b[0mf\u001b[0m\u001b[0;34m,\u001b[0m \u001b[0mmmap_mode\u001b[0m\u001b[0;34m=\u001b[0m\u001b[0;34m'r'\u001b[0m\u001b[0;34m,\u001b[0m \u001b[0mallow_pickle\u001b[0m\u001b[0;34m=\u001b[0m\u001b[0;32mTrue\u001b[0m\u001b[0;34m)\u001b[0m\u001b[0;34m\u001b[0m\u001b[0m\n\u001b[0m\u001b[1;32m    111\u001b[0m \u001b[0;34m\u001b[0m\u001b[0m\n",
      "\u001b[0;31mNameError\u001b[0m: name 'numpy' is not defined"
     ]
    }
   ],
   "source": [
    "exs = shuffled_examples(data_dir, databases, 360, 5000, 2500, True, True)\n",
    "train_exs = exs[:int(len(exs)*train_perc/100)]\n",
    "test_exs  = exs[int(len(exs)*train_perc/100):]\n",
    "print('Number of examples: {} ({} samples)'.format(len(exs), len(exs)*5000))\n",
    "print('          Training: {} ({} samples)'.format(len(train_exs), len(train_exs)*5000))\n",
    "print('           Testing: {} ({} samples)'.format(len(test_exs), len(test_exs)*5000))"
   ]
  },
  {
   "cell_type": "code",
   "execution_count": null,
   "metadata": {
    "collapsed": false,
    "scrolled": false
   },
   "outputs": [],
   "source": [
    "nn.train(train_exs, test_exs, num_epochs=500, examples_by_epoch=1000, save_name=save_name, eval_during_training=False)"
   ]
  },
  {
   "cell_type": "code",
   "execution_count": null,
   "metadata": {
    "collapsed": true,
    "scrolled": false
   },
   "outputs": [],
   "source": [
    "_, params = load_model(model_path + '/model-loss0.037631392673427445-epoch1200.sav')\n",
    "# print(params)\n",
    "set_all_param_values(nn.model, params)\n",
    "nn.init_funs(nn.model)"
   ]
  },
  {
   "cell_type": "code",
   "execution_count": null,
   "metadata": {
    "collapsed": true,
    "scrolled": false
   },
   "outputs": [],
   "source": [
    "eval_model(testXY, nn.evaluate, left_border=left_border, right_border=right_border,\n",
    "           min_gap=min_gap, max_gap=max_gap, plot_examples=True, nb=10,\n",
    "           nearest_fpr=0.000675, threshold=0.9678147, eval_margin=10)"
   ]
  },
  {
   "cell_type": "code",
   "execution_count": null,
   "metadata": {
    "collapsed": true
   },
   "outputs": [],
   "source": []
  }
 ],
 "metadata": {
  "anaconda-cloud": {},
  "kernelspec": {
   "display_name": "Python [default]",
   "language": "python",
   "name": "python3"
  },
  "language_info": {
   "codemirror_mode": {
    "name": "ipython",
    "version": 3
   },
   "file_extension": ".py",
   "mimetype": "text/x-python",
   "name": "python",
   "nbconvert_exporter": "python",
   "pygments_lexer": "ipython3",
   "version": "3.5.2"
  }
 },
 "nbformat": 4,
 "nbformat_minor": 2
}
