{
 "cells": [
  {
   "cell_type": "code",
   "execution_count": 2,
   "metadata": {
    "collapsed": false,
    "scrolled": false
   },
   "outputs": [],
   "source": [
    "from conf import databases, url, data_dir, architecture_1\n",
    "from file_utils import create_folder\n",
    "from nn import LasagneNN\n",
    "\n",
    "import numpy\n",
    "import random\n",
    "import time\n",
    "\n",
    "import lasagne\n",
    "from matplotlib import pyplot as plt\n",
    "import matplotlib as mpl"
   ]
  },
  {
   "cell_type": "code",
   "execution_count": 5,
   "metadata": {
    "collapsed": false
   },
   "outputs": [
    {
     "name": "stdout",
     "output_type": "stream",
     "text": [
      "[('mitdb', ['100', '101', '102', '103', '104', '105', '106', '107', '108', '109', '111', '112', '113', '114', '115', '116', '117', '118', '119', '121', '122', '123', '124', '200', '201', '202', '203', '205', '207', '208', '209', '210', '212', '213', '214', '215', '217', '219', '220', '221', '222', '223', '228', '230', '231', '232', '233', '234']), ('ltdb', ['14046', '14134', '14149', '14157', '14172', '14184', '15814']), ('ltafdb', ['00', '01', '03', '05', '06', '07', '08', '10', '100', '101', '102', '103', '104', '105', '11', '110', '111', '112', '113', '114', '115', '116', '117', '118', '119', '12', '120', '121', '122', '13', '15', '16', '17', '18', '19', '20', '200', '201', '202', '03', '204', '205', '206', '207', '208', '21', '22', '23', '24', '25', '26', '28', '30', '32', '33', '34', '35', '37', '38', '39', '42', '43', '44', '45', '47', '48', '49', '51', '53', '54', '55', '56', '58', '60', '62', '64', '65', '68', '69', '70', '71', '72', '74', '75']), ('ltstdb', ['s20011', 's20021', 's20031', 's20041', 's20051', 's20061', 's20071', 's20081', 's20091', 's20101', 's20111', 's20121', 's20131', 's20141', 's20151', 's20161', 's20171', 's20181', 's20191', 's20201', 's20211', 's20221', 's20231', 's20241', 's20251', 's20261', 's20271', 's20272', 's20273', 's20274', 's20281', 's20291', 's20301', 's20311', 's20321', 's20331', 's20341', 's20351', 's20361', 's20371', 's20381', 's20391', 's20401', 's20411', 's20421', 's20431', 's20441', 's20451', 's20461', 's20471', 's20481', 's20491', 's20501', 's20511', 's20521', 's20531', 's20541', 's20551', 's20561', 's20571', 's20581', 's20591', 's20601', 's20611', 's20621', 's20631', 's20641', 's20651', 's30661', 's30671', 's30681', 's30691', 's30701', 's30711', 's30721', 's30731', 's30732', 's30741', 's30742', 's30751', 's30752', 's30761', 's30771', 's30781', 's30791', 's30801'])]\n"
     ]
    }
   ],
   "source": [
    "# print(databases)\n",
    "# only = ['mitdb', 'ltdb', 'ltafdb', 'ltstdb']\n",
    "# dbs = [(db, ids) for (db, ids) in databases if db in only]\n",
    "# print(dbs)"
   ]
  },
  {
   "cell_type": "code",
   "execution_count": 3,
   "metadata": {
    "collapsed": true
   },
   "outputs": [],
   "source": [
    "fs = 128\n",
    "fs_target = 360\n",
    "min_bpm = 10\n",
    "max_bpm = 350\n",
    "min_gap = fs*60/min_bpm\n",
    "max_gap = fs*60/max_bpm\n",
    "\n",
    "train_perc = 99\n",
    "test_perc = 100 - train_perc\n",
    "\n",
    "params = {\n",
    "    'fs_target': 360,\n",
    "    'segment_size': 5000, \n",
    "    'segment_step': 2500, \n",
    "    'normalize_steps': True,\n",
    "    'correct_peaks': True,\n",
    "    'left_border': 50, # samples\n",
    "    'right_border': 50, # samples\n",
    "    'min_gap': min_gap,\n",
    "    'max_gap': max_gap\n",
    "}"
   ]
  },
  {
   "cell_type": "code",
   "execution_count": 4,
   "metadata": {
    "collapsed": true
   },
   "outputs": [],
   "source": [
    "model_path = 'saved-models/' + '_'.join(only)\n",
    "create_folder(model_path)\n",
    "save_name = model_path + time.strftime(\"%Y-%m-%d-%H-%M\")"
   ]
  },
  {
   "cell_type": "code",
   "execution_count": null,
   "metadata": {
    "collapsed": false
   },
   "outputs": [
    {
     "name": "stdout",
     "output_type": "stream",
     "text": [
      "Model shape:\n",
      "  Layer A:\n",
      "    a1: (None, 8, 5000)\n",
      "    a2: (None, 64, 5000)\n",
      "    a3: (None, 64, 5000)\n",
      "    a4: (None, 32, 5000)\n",
      "    a5: (None, 16, 5000)\n",
      "    a6: (None, 16, 5000)\n",
      "    a7: (None, 16, 5000)\n",
      "   al: (None, 216, 5000)\n",
      "  Layer B:\n",
      "    b1: (None, 8, 5000)\n",
      "    b2: (None, 64, 5000)\n",
      "    b3: (None, 64, 5000)\n",
      "    b4: (None, 64, 5000)\n",
      "   bl: (None, 136, 5000)\n",
      "  Layer C:\n",
      "    c1: (None, 8, 5000)\n",
      "    c2: (None, 32, 5000)\n",
      "    c3: (None, 32, 5000)\n",
      "    c4: (None, 32, 5000)\n",
      "    c5: (None, 32, 5000)\n",
      "   cl: (None, 136, 5000)\n",
      "  Layer D:\n",
      "    d1: (None, 8, 5000)\n",
      "    d2: (None, 32, 5000)\n",
      "    d3: (None, 64, 5000)\n",
      "   dl: (None, 104, 5000)\n",
      "  Later E:\n",
      "    e1: (None, 16, 5000)\n",
      "    e2: (None, 16, 5000)\n",
      "    e3: (None, 16, 5000)\n",
      "   el: (None, 48, 5000)\n",
      "  Layer F:\n",
      "    f1: (None, 8, 5000)\n",
      "    f2: (None, 16, 5000)\n",
      "    f3: (None, 16, 5000)\n",
      "   fl: (None, 40, 5000)\n",
      "  Layer G:\n",
      "    g1: (None, 1, 5000)\n",
      "   gl: (None, 1, 5000)\n"
     ]
    }
   ],
   "source": [
    "nn = NN(architecture_1, dim=1, params=params)"
   ]
  },
  {
   "cell_type": "code",
   "execution_count": null,
   "metadata": {
    "collapsed": false,
    "scrolled": false
   },
   "outputs": [],
   "source": [
    "exs = shuffled_examples(databases, 360, 5000, 2500, True, True)\n",
    "train_exs = exs[:int(len(exs)*train_perc/100)]\n",
    "test_exs  = exs[int(len(exs)*train_perc/100):]\n",
    "print('Number of examples: {} ({} samples)'.format(len(exs), len(exs)*5000))\n",
    "print('          Training: {} ({} samples)'.format(len(train_exs), len(train_exs)*5000))\n",
    "print('           Testing: {} ({} samples)'.format(len(test_exs), len(test_exs)*5000))"
   ]
  },
  {
   "cell_type": "code",
   "execution_count": null,
   "metadata": {
    "collapsed": false,
    "scrolled": false
   },
   "outputs": [],
   "source": [
    "nn.train(train_exs, test_exs, num_epochs=500, examples_by_epoch=1000, info=True, model_path=model_path)"
   ]
  },
  {
   "cell_type": "code",
   "execution_count": null,
   "metadata": {
    "collapsed": true,
    "scrolled": false
   },
   "outputs": [],
   "source": [
    "_, params = load_model(model_path + '/model-loss0.037631392673427445-epoch1200.sav')\n",
    "# print(params)\n",
    "set_all_param_values(nn.model, params)\n",
    "nn.init_funs(nn.model)"
   ]
  },
  {
   "cell_type": "code",
   "execution_count": null,
   "metadata": {
    "collapsed": true,
    "scrolled": false
   },
   "outputs": [],
   "source": [
    "eval_model(testXY, nn.evaluate, left_border=left_border, right_border=right_border,\n",
    "           min_gap=min_gap, max_gap=max_gap, plot_examples=True, nb=10,\n",
    "           nearest_fpr=0.000675, threshold=0.9678147, eval_margin=10)"
   ]
  },
  {
   "cell_type": "code",
   "execution_count": null,
   "metadata": {
    "collapsed": true
   },
   "outputs": [],
   "source": []
  }
 ],
 "metadata": {
  "anaconda-cloud": {},
  "kernelspec": {
   "display_name": "Python [default]",
   "language": "python",
   "name": "python3"
  },
  "language_info": {
   "codemirror_mode": {
    "name": "ipython",
    "version": 3
   },
   "file_extension": ".py",
   "mimetype": "text/x-python",
   "name": "python",
   "nbconvert_exporter": "python",
   "pygments_lexer": "ipython3",
   "version": "3.5.2"
  }
 },
 "nbformat": 4,
 "nbformat_minor": 2
}
