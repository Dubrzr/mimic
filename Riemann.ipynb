{
 "cells": [
  {
   "cell_type": "code",
   "execution_count": 3,
   "metadata": {},
   "outputs": [],
   "source": [
    "import numpy\n",
    "from matplotlib import pyplot as plt\n",
    "import matplotlib as mpl\n",
    "from scipy import signal"
   ]
  },
  {
   "cell_type": "code",
   "execution_count": 5,
   "metadata": {},
   "outputs": [
    {
     "name": "stdout",
     "output_type": "stream",
     "text": [
      "[[  0.1754386   -0.15467379]\n",
      " [ -0.15467379  21.24305556]]\n"
     ]
    }
   ],
   "source": [
    "seq1 = numpy.asarray([0, 1, 0, 0, 0, 0, 0, 1, 0, 0, 0, 0, 1,  0, 0, 0, 1, 0, 0])\n",
    "seq2 = numpy.asarray([22, 35, 32, 29])\n",
    "\n",
    "sequences = [seq1, seq2]\n",
    "\n",
    "# I - Resample sequences to match the one with the higher frequency (up-sampling using Fourier method)\n",
    "result = []\n",
    "m = max([len(s) for s in sequences])\n",
    "for s in sequences:\n",
    "    result.append(signal.resample(s, m))\n",
    "\n",
    "# II - Compute covariance matrix between discrete signals\n",
    "print(numpy.cov(result[0], result[1]))\n",
    "\n",
    "# III - "
   ]
  }
 ],
 "metadata": {
  "kernelspec": {
   "display_name": "Python [default]",
   "language": "python",
   "name": "python3"
  },
  "language_info": {
   "codemirror_mode": {
    "name": "ipython",
    "version": 3
   },
   "file_extension": ".py",
   "mimetype": "text/x-python",
   "name": "python",
   "nbconvert_exporter": "python",
   "pygments_lexer": "ipython3",
   "version": "3.5.3"
  }
 },
 "nbformat": 4,
 "nbformat_minor": 1
}
