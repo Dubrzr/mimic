{
 "cells": [
  {
   "cell_type": "code",
   "execution_count": 5,
   "metadata": {
    "collapsed": false
   },
   "outputs": [
    {
     "data": {
      "image/png": "[encoded data removed]",
      "text/plain": [
       "<matplotlib.figure.Figure at 0x239704c9f60>"
      ]
     },
     "metadata": {},
     "output_type": "display_data"
    }
   ],
   "source": [
    "from scipy.signal import firwin, remez, kaiser_atten, kaiser_beta\n",
    "\n",
    "# Several flavors of bandpass FIR filters.\n",
    "\n",
    "def bandpass_firwin(ntaps, lowcut, highcut, fs, window='hamming'):\n",
    "    nyq = 0.5 * fs\n",
    "    taps = firwin(ntaps, [lowcut, highcut], nyq=nyq, pass_zero=False,\n",
    "                  window=window, scale=False)\n",
    "    return taps\n",
    "\n",
    "def bandpass_kaiser(ntaps, lowcut, highcut, fs, width):\n",
    "    nyq = 0.5 * fs\n",
    "    atten = kaiser_atten(ntaps, width / nyq)\n",
    "    beta = kaiser_beta(atten)\n",
    "    taps = firwin(ntaps, [lowcut, highcut], nyq=nyq, pass_zero=False,\n",
    "                  window=('kaiser', beta), scale=False)\n",
    "    return taps\n",
    "\n",
    "def bandpass_remez(ntaps, lowcut, highcut, fs, width):\n",
    "    delta = 0.5 * width\n",
    "    edges = [0, lowcut - delta, lowcut + delta,\n",
    "             highcut - delta, highcut + delta, 0.5*fs]\n",
    "    taps = remez(ntaps, edges, [0, 1, 0], Hz=fs)\n",
    "    return taps\n",
    "\n",
    "\n",
    "if __name__ == \"__main__\":\n",
    "    import numpy as np\n",
    "    import matplotlib.pyplot as plt\n",
    "    from scipy.signal import freqz\n",
    "\n",
    "    # Sample rate and desired cutoff frequencies (in Hz).\n",
    "    fs = 360.0\n",
    "    lowcut = 0.15\n",
    "    highcut = 0.5*fs-1\n",
    "\n",
    "    ntaps = 300000\n",
    "    taps_hamming = bandpass_firwin(ntaps, lowcut, highcut, fs=fs, window='hamming')\n",
    "#     taps_hanning = bandpass_firwin(ntaps, lowcut, highcut, fs=fs, window='hanning')\n",
    "#     taps_blackman = bandpass_firwin(ntaps, lowcut, highcut, fs=fs, window='blackman')\n",
    "    \n",
    "#     remez_width = 1.0\n",
    "#     taps_remez = bandpass_remez(ntaps, lowcut, highcut, fs=fs,\n",
    "#                                 width=remez_width)\n",
    "\n",
    "    # Plot the frequency responses of the filters.\n",
    "    plt.figure(1, figsize=(12, 9))\n",
    "    plt.clf()\n",
    "\n",
    "    # First plot the desired ideal response as a green(ish) rectangle.\n",
    "    rect = plt.Rectangle((lowcut, 0), highcut - lowcut, 1.0,\n",
    "                         facecolor=\"#60ff60\", alpha=0.2)\n",
    "    plt.gca().add_patch(rect)\n",
    "\n",
    "    # Plot the frequency response of each filter.\n",
    "    w, h = freqz(taps_hamming, 1, worN=20000)\n",
    "    plt.plot((fs * 0.5 / np.pi) * w, abs(h), label=\"Hamming window\", c='r')\n",
    "#     w, h = freqz(taps_hanning, 1, worN=20000)\n",
    "#     plt.plot((fs * 0.5 / np.pi) * w, abs(h), label=\"Hanning window\")\n",
    "#     w, h = freqz(taps_blackman, 1, worN=20000)\n",
    "#     plt.plot((fs * 0.5 / np.pi) * w, abs(h), label=\"Blackman window\")\n",
    "    \n",
    "#     w, h = freqz(taps_remez, 1, worN=2000)\n",
    "#     plt.plot((fs * 0.5 / np.pi) * w, abs(h),\n",
    "#              label=\"Remez algorithm, width=%.1f\" % remez_width)\n",
    "#     plt.plot([lowcut, lowcut], [0, 1])\n",
    "#     plt.plot([highcut, highcut], [0, 1])\n",
    "    plt.xlim(0, 1.0)\n",
    "    plt.ylim(0, 1.1)\n",
    "    plt.grid(True)\n",
    "    plt.legend()\n",
    "    plt.xlabel('Frequency (Hz)')\n",
    "    plt.ylabel('Gain')\n",
    "    plt.title('Frequency response of a band-pass FIR filter ({}Hz->{}Hz), {} taps'.format(lowcut, highcut, ntaps))\n",
    "\n",
    "    plt.show()"
   ]
  },
  {
   "cell_type": "code",
   "execution_count": null,
   "metadata": {
    "collapsed": true
   },
   "outputs": [],
   "source": [
    "# Length of the filter (number of coefficients, i.e. the filter order + 1)\n",
    "numtaps = 29\n",
    " \n",
    "# Use firwin to create a lowpass FIR filter\n",
    "fir_coeff = firwin(numtaps, cutoff_hz/nyq_rate)\n",
    " \n",
    "# Use lfilter to filter the signal with the FIR filter\n",
    "filtered_signal = lfilter(fir_coeff, 1.0, signal)"
   ]
  }
 ],
 "metadata": {
  "kernelspec": {
   "display_name": "Python [default]",
   "language": "python",
   "name": "python3"
  },
  "language_info": {
   "codemirror_mode": {
    "name": "ipython",
    "version": 3
   },
   "file_extension": ".py",
   "mimetype": "text/x-python",
   "name": "python",
   "nbconvert_exporter": "python",
   "pygments_lexer": "ipython3",
   "version": "3.5.2"
  }
 },
 "nbformat": 4,
 "nbformat_minor": 2
}
