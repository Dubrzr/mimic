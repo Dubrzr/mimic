{
 "cells": [
  {
   "cell_type": "code",
   "execution_count": 27,
   "metadata": {
    "collapsed": true
   },
   "outputs": [],
   "source": [
    "import numpy\n",
    "from matplotlib import pyplot as plt\n",
    "import matplotlib as mpl\n",
    "from scipy import signal\n",
    "from multiprocessing import Pool\n",
    "import json\n",
    "import wfdb"
   ]
  },
  {
   "cell_type": "code",
   "execution_count": 38,
   "metadata": {
    "collapsed": false
   },
   "outputs": [],
   "source": [
    "matched_dir = \"mimic3wdb-matched\"\n",
    "riemann_dir = \"riemann\"\n",
    "accp = {}\n",
    "with open(\"accp_deliberation.json\", 'r') as f:\n",
    "    for e in json.loads(f.read())[\"accp_deliberation\"]:\n",
    "        accp[e[\"hadm_id\"]] = e[\"type\"]\n",
    "with open(\"entries.json\", 'r') as f:\n",
    "    entries = json.loads(f.read())\n",
    "with open(\"signals.json\", 'r') as f:\n",
    "    signals = json.loads(f.read())"
   ]
  },
  {
   "cell_type": "code",
   "execution_count": 69,
   "metadata": {
    "collapsed": false
   },
   "outputs": [
    {
     "data": {
      "text/plain": [
       "[148, 34, ['II'], ['mV']]"
      ]
     },
     "execution_count": 69,
     "metadata": {},
     "output_type": "execute_result"
    }
   ],
   "source": [
    "entries[\"BP-ECG\"][\"14400\"][0]"
   ]
  },
  {
   "cell_type": "code",
   "execution_count": 52,
   "metadata": {
    "collapsed": true
   },
   "outputs": [],
   "source": [
    "def resample_multichan(xs, fs, fs_target, resamp_ann_chan=0):\n",
    "    assert resamp_ann_chan < xs.shape[1]\n",
    "\n",
    "    lx = []\n",
    "    lt = None\n",
    "    for chan in range(xs.shape[1]):\n",
    "        xx, tt = wfdb.processing.resample_sig(xs[:, chan], fs, fs_target)\n",
    "        lx.append(xx)\n",
    "        if chan == resamp_ann_chan:\n",
    "            lt = tt\n",
    "    return numpy.column_stack(lx), lt"
   ]
  },
  {
   "cell_type": "code",
   "execution_count": 58,
   "metadata": {
    "collapsed": false
   },
   "outputs": [
    {
     "name": "stdout",
     "output_type": "stream",
     "text": [
      "['RESP', 'I', 'MCL', 'II', 'PLETH', 'ABP']\n"
     ]
    },
    {
     "data": {
      "text/plain": [
       "[[('I', 1), ('RESP', 0), ('MCL', 2), ('PLETH', 4), ('ABP', 5)],\n",
       " [('II', 3), ('RESP', 0), ('MCL', 2), ('PLETH', 4), ('ABP', 5)]]"
      ]
     },
     "execution_count": 58,
     "metadata": {},
     "output_type": "execute_result"
    }
   ],
   "source": [
    "def combi(signames):\n",
    "    ecgs = [s for s in signames if s in signals['ECG']]\n",
    "    others = [(s, i) for i, s in enumerate(signames) if s not in ecgs]\n",
    "    res = []\n",
    "    for e in ecgs:\n",
    "        res.append([(e, signames.index(e))] + others)\n",
    "    return res\n",
    "\n",
    "record = wfdb.rdsamp(\"mimic3wdb-matched/s24942/3007103_0031\", physical=False)\n",
    "print(record.signame)\n",
    "combi(record.signame)"
   ]
  },
  {
   "cell_type": "markdown",
   "metadata": {},
   "source": [
    "## Dataset Creation"
   ]
  },
  {
   "cell_type": "code",
   "execution_count": 57,
   "metadata": {
    "collapsed": false
   },
   "outputs": [
    {
     "name": "stdout",
     "output_type": "stream",
     "text": [
      "riemann/mimic3wdb-matched-s24942-3007103_0031-I\n",
      "riemann/mimic3wdb-matched-s24942-3007103_0031-II\n",
      "[None]\n"
     ]
    }
   ],
   "source": [
    "# pre-processing\n",
    "# -> Divide each record in dataset examples (one record could have many ecg channels - divide using one ecg channel by dataset example)\n",
    "# -> Check signal validity\n",
    "# -> Resample to same frequency\n",
    "# -> Use same units (✔ all signames are of the same unit!)\n",
    "# -> Compute GQRS heart-rate and RR\n",
    "\n",
    "fs_target = 125\n",
    "def f(t):\n",
    "    record = wfdb.rdsamp(t, physical=False)\n",
    "    new_x, lt = resample_multichan(record.d_signals, record.fs, fs_target)\n",
    "    for c in combi(record.signame):\n",
    "        x = new_x[:,c[0][1]]\n",
    "        assert len(x) > 1000\n",
    "        peak_indexes = wfdb.processing.gqrs_detect(x=x, frequency=record.fs, adcgain=record.adcgain[0], adczero=record.adczero[0], threshold=1.0)\n",
    "        new_indexes = wfdb.processing.correct_peaks(x=x, peaks_indexes=peak_indexes, min_gap=record.fs*60/10, max_gap=record.fs*60/350, smooth_window=150)\n",
    "        xs = numpy.column_stack([x] + [new_x[:,i] for _, i in c[1:]])\n",
    "        \n",
    "        if fs_target != record.fs:\n",
    "            new_peaks = wfdb.processing.resample_ann(lt, new_indexes)\n",
    "        else:\n",
    "            new_peaks = new_indexes\n",
    "        \n",
    "        hrs = wfdb.processing.compute_hr(len(x), new_peaks, fs_target)\n",
    "        \n",
    "        print(riemann_dir + '/' + t.replace('/', '-') + '-' + c[0][0])\n",
    "        numpy.save(riemann_dir + '/' + t.replace('/', '-') + '-' + c[0][0], numpy.asarray([xs, new_peaks, hrs, c]))\n",
    "            \n",
    "\n",
    "todo = []\n",
    "\n",
    "for sigs, v in entries.items():\n",
    "    for time, vv in v.items():\n",
    "        for e in vv[time]:\n",
    "            todo.append()\n",
    "    entries[sigs]\n",
    "entries[\"BP-ECG\"][\"14400\"][0]\n",
    "entries[\"BP-ECG\"][\"14400\"][0]\n",
    "Out[69]:\n",
    "[148, 34, ['II'], ['mV']]\n",
    "            \n",
    "with Pool(5) as p:\n",
    "    print(p.map(f, [\"mimic3wdb-matched/s24942/3007103_0031\"]))\n"
   ]
  },
  {
   "cell_type": "code",
   "execution_count": 6,
   "metadata": {
    "collapsed": false
   },
   "outputs": [
    {
     "name": "stdout",
     "output_type": "stream",
     "text": [
      "[array([  7.94685954e-16,   1.00000000e+00,   3.98803797e-16,\n",
      "        -2.80477396e-16,   4.44089210e-16,  -3.94421338e-16,\n",
      "         1.64780470e-15,   1.00000000e+00,   2.33731163e-17,\n",
      "         3.09693791e-16,   3.91499698e-16,  -1.86984930e-16,\n",
      "         1.00000000e+00,   1.67117782e-15,  -1.66533454e-16,\n",
      "         3.03850512e-16,   1.00000000e+00,   8.16598251e-16,\n",
      "        -4.67462326e-16]), array([ 22.        ,  23.77216093,  26.78322187,  30.28099721,\n",
      "        33.37945774,  35.36855346,  35.94900103,  35.30002795,\n",
      "        33.95784054,  32.56104718,  31.57347964,  31.10215618,\n",
      "        30.88568449,  30.45436107,  29.38904651,  27.56305614,\n",
      "        25.25799834,  23.0979456 ,  21.82396411])]\n",
      "[[  0.1754386   -0.15467379]\n",
      " [ -0.15467379  21.24305556]]\n"
     ]
    }
   ],
   "source": [
    "seq1 = numpy.asarray([0, 1, 0, 0, 0, 0, 0, 1, 0, 0, 0, 0, 1,  0, 0, 0, 1, 0, 0])\n",
    "seq2 = numpy.asarray([22, 35, 32, 29])\n",
    "\n",
    "sequences = [seq1, seq2]\n",
    "\n",
    "# I - Resample sequences to match the one with the higher frequency (up-sampling using Fourier method)\n",
    "result = []\n",
    "m = max([len(s) for s in sequences])\n",
    "for s in sequences:\n",
    "    result.append(signal.resample(s, m))\n",
    "\n",
    "# II - Compute covariance matrix between discrete signals\n",
    "print(numpy.cov(result[0], result[1]))\n",
    "\n",
    "# III - "
   ]
  }
 ],
 "metadata": {
  "anaconda-cloud": {},
  "kernelspec": {
   "display_name": "Python [default]",
   "language": "python",
   "name": "python3"
  },
  "language_info": {
   "codemirror_mode": {
    "name": "ipython",
    "version": 3
   },
   "file_extension": ".py",
   "mimetype": "text/x-python",
   "name": "python",
   "nbconvert_exporter": "python",
   "pygments_lexer": "ipython3",
   "version": "3.5.2"
  }
 },
 "nbformat": 4,
 "nbformat_minor": 1
}
