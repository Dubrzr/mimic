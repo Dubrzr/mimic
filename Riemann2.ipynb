{
 "cells": [
  {
   "cell_type": "code",
   "execution_count": 1,
   "metadata": {
    "collapsed": true
   },
   "outputs": [],
   "source": [
    "import numpy\n",
    "from matplotlib import pyplot as plt\n",
    "import matplotlib as mpl\n",
    "from scipy import signal"
   ]
  },
  {
   "cell_type": "code",
   "execution_count": 6,
   "metadata": {},
   "outputs": [
    {
     "name": "stdout",
     "output_type": "stream",
     "text": [
      "[array([  7.94685954e-16,   1.00000000e+00,   3.98803797e-16,\n",
      "        -2.80477396e-16,   4.44089210e-16,  -3.94421338e-16,\n",
      "         1.64780470e-15,   1.00000000e+00,   2.33731163e-17,\n",
      "         3.09693791e-16,   3.91499698e-16,  -1.86984930e-16,\n",
      "         1.00000000e+00,   1.67117782e-15,  -1.66533454e-16,\n",
      "         3.03850512e-16,   1.00000000e+00,   8.16598251e-16,\n",
      "        -4.67462326e-16]), array([ 22.        ,  23.77216093,  26.78322187,  30.28099721,\n",
      "        33.37945774,  35.36855346,  35.94900103,  35.30002795,\n",
      "        33.95784054,  32.56104718,  31.57347964,  31.10215618,\n",
      "        30.88568449,  30.45436107,  29.38904651,  27.56305614,\n",
      "        25.25799834,  23.0979456 ,  21.82396411])]\n",
      "[[  0.1754386   -0.15467379]\n",
      " [ -0.15467379  21.24305556]]\n"
     ]
    }
   ],
   "source": [
    "seq1 = numpy.asarray([0, 1, 0, 0, 0, 0, 0, 1, 0, 0, 0, 0, 1,  0, 0, 0, 1, 0, 0])\n",
    "seq2 = numpy.asarray([22, 35, 32, 29])\n",
    "\n",
    "sequences = [seq1, seq2]\n",
    "\n",
    "# I - Resample sequences to match the one with the higher frequency (up-sampling using Fourier method)\n",
    "result = []\n",
    "m = max([len(s) for s in sequences])\n",
    "for s in sequences:\n",
    "    result.append(signal.resample(s, m))\n",
    "\n",
    "# II - Compute covariance matrix between discrete signals\n",
    "print(numpy.cov(result[0], result[1]))\n",
    "\n",
    "# III - "
   ]
  }
 ],
 "metadata": {
  "kernelspec": {
   "display_name": "Python [default]",
   "language": "python",
   "name": "python3"
  },
  "language_info": {
   "codemirror_mode": {
    "name": "ipython",
    "version": 3
   },
   "file_extension": ".py",
   "mimetype": "text/x-python",
   "name": "python",
   "nbconvert_exporter": "python",
   "pygments_lexer": "ipython3",
   "version": "3.5.3"
  }
 },
 "nbformat": 4,
 "nbformat_minor": 1
}
