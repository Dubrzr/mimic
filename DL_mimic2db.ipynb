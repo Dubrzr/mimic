{
 "cells": [
  {
   "cell_type": "code",
   "execution_count": 1,
   "metadata": {
    "collapsed": true
   },
   "outputs": [],
   "source": [
    "import sys\n",
    "from file_utils import *\n",
    "import lazyjson\n",
    "from bs4 import BeautifulSoup\n",
    "import requests\n",
    "import datetime\n",
    "\n",
    "sys.setrecursionlimit(100000)"
   ]
  },
  {
   "cell_type": "code",
   "execution_count": 2,
   "metadata": {
    "collapsed": false
   },
   "outputs": [],
   "source": [
    "physioneturl = \"https://physionet.org/physiobank/database/mimic2db\"\n",
    "db_file = 'db.json'\n",
    "output = 'data/mimic2'\n",
    "\n",
    "create_folder(output)\n",
    "\n",
    "if not file_exists(db_file):\n",
    "    create_file(db_file, contents='{}')\n",
    "db = lazyjson.File(db_file)"
   ]
  },
  {
   "cell_type": "code",
   "execution_count": 3,
   "metadata": {
    "collapsed": false,
    "scrolled": true
   },
   "outputs": [
    {
     "name": "stdout",
     "output_type": "stream",
     "text": [
      "Got 4294 folders\n"
     ]
    }
   ],
   "source": [
    "homepage = requests.get(physioneturl)\n",
    "soup = BeautifulSoup(homepage.text, 'html.parser')\n",
    "tmp = list(map(lambda e: e.string[:-1], soup.find('pre').find_all('a')[15:-1]))\n",
    "print('Got {} folders'.format(len(tmp)))"
   ]
  },
  {
   "cell_type": "code",
   "execution_count": 9,
   "metadata": {
    "collapsed": false
   },
   "outputs": [],
   "source": [
    "def download_folder(name):\n",
    "    dir_url = physioneturl + '/' + name\n",
    "    dir_path = output + '/' + name\n",
    "    \n",
    "    sha256 = requests.get(dir_url + '/SHA256SUMS').text\n",
    "    \n",
    "    create_folder(dir_path)\n",
    "    if name not in db:\n",
    "        db[name] = {}\n",
    "\n",
    "    \n",
    "    total_size = 0\n",
    "    for l in sha256.splitlines():\n",
    "        h, f = l.split('  ')\n",
    "        \n",
    "        if not f.endswith('hea') and not f.endswith('dat'):\n",
    "            continue\n",
    "        \n",
    "        file_url = dir_url + '/' + f\n",
    "        file_path = dir_path + '/' + f\n",
    "        \n",
    "        # Check local existance and sha256\n",
    "        valid = False\n",
    "        if file_exists(file_path):\n",
    "            if f in db[name]:\n",
    "                if db[name][f]['hash'] == h:\n",
    "                    valid = True\n",
    "        \n",
    "        if not valid:\n",
    "            delete_file(file_path)\n",
    "            download_file(file_url, file_path)\n",
    "            assert h == sha256_checksum(file_path)\n",
    "            s = file_size(file_path)\n",
    "            total_size += s\n",
    "            db[name][f] = {\n",
    "                'hash': h,\n",
    "                'size': s\n",
    "            }\n",
    "    return total_size\n",
    "    "
   ]
  },
  {
   "cell_type": "code",
   "execution_count": null,
   "metadata": {
    "collapsed": false,
    "scrolled": false
   },
   "outputs": [],
   "source": [
    "size = 0\n",
    "for k in tmp:\n",
    "    start = datetime.datetime.now()\n",
    "    print('Downloading {}...'.format(k), end='')\n",
    "    s = download_folder(k)\n",
    "    elapsed = datetime.datetime.now() - start\n",
    "    total_sec = elapsed.seconds + elapsed.microseconds / 1000000\n",
    "    print(' Done! {} files downloaded/updated ({} in {}s: {}/s)'.format(\n",
    "        len(db[k]), \n",
    "        sizeof_fmt(s), \n",
    "        total_sec, \n",
    "        sizeof_fmt(s/total_sec)\n",
    "    ))\n",
    "    \n",
    "    \n",
    "    if size > 100 * 1024**3:\n",
    "        break"
   ]
  },
  {
   "cell_type": "code",
   "execution_count": null,
   "metadata": {
    "collapsed": false
   },
   "outputs": [],
   "source": [
    "c = 0\n",
    "for k in tmp:\n",
    "    sha256 = requests.get(physioneturl + '/' + k + '/SHA256SUMS').text\n",
    "    for l in sha256.splitlines():\n",
    "        h, f = l.split('  ')\n",
    "        if not f.endswith('hea') and not f.endswith('dat'):\n",
    "            continue\n",
    "        c += 1\n",
    "    print(c, end=\"\\r\")\n",
    "print(c)"
   ]
  },
  {
   "cell_type": "code",
   "execution_count": null,
   "metadata": {
    "collapsed": true
   },
   "outputs": [],
   "source": []
  }
 ],
 "metadata": {
  "kernelspec": {
   "display_name": "Python 3",
   "language": "python",
   "name": "python3"
  },
  "language_info": {
   "codemirror_mode": {
    "name": "ipython",
    "version": 3
   },
   "file_extension": ".py",
   "mimetype": "text/x-python",
   "name": "python",
   "nbconvert_exporter": "python",
   "pygments_lexer": "ipython3",
   "version": "3.6.0"
  }
 },
 "nbformat": 4,
 "nbformat_minor": 2
}
