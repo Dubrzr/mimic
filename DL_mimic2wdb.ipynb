{
 "cells": [
  {
   "cell_type": "code",
   "execution_count": 7,
   "metadata": {
    "collapsed": true
   },
   "outputs": [],
   "source": [
    "import sys\n",
    "from file_utils import *\n",
    "import lazyjson\n",
    "from bs4 import BeautifulSoup\n",
    "import requests\n",
    "import datetime\n",
    "import multiprocessing\n",
    "\n",
    "sys.setrecursionlimit(100000)"
   ]
  },
  {
   "cell_type": "code",
   "execution_count": 9,
   "metadata": {
    "collapsed": false
   },
   "outputs": [],
   "source": [
    "physioneturl = \"https://physionet.org/physiobank/database/mimic2wdb/matched\"\n",
    "db_file = 'mimic2wdb.json'\n",
    "output = 'data/mimic2wdb'\n",
    "\n",
    "create_folder(output)\n",
    "\n",
    "if not file_exists(db_file):\n",
    "    create_file(db_file, contents='{}')\n",
    "db = lazyjson.File(db_file)"
   ]
  },
  {
   "cell_type": "code",
   "execution_count": 29,
   "metadata": {
    "collapsed": false,
    "scrolled": true
   },
   "outputs": [],
   "source": [
    "def list_page(url, string_red=9999999, pre_idx=0):\n",
    "    page = requests.get(url)\n",
    "    soup = BeautifulSoup(page.text, 'html.parser')\n",
    "    tmp = list(map(lambda e: e.string[:string_red], soup.find_all('pre')[pre_idx].find_all('a')))\n",
    "    \n",
    "    return tmp"
   ]
  },
  {
   "cell_type": "code",
   "execution_count": 30,
   "metadata": {
    "collapsed": false
   },
   "outputs": [
    {
     "name": "stdout",
     "output_type": "stream",
     "text": [
      "Got 2808 folders\n"
     ]
    }
   ],
   "source": [
    "folders = list_page(physioneturl, -1, 3)[9:]\n",
    "print('Got {} folders'.format(len(folders)))"
   ]
  },
  {
   "cell_type": "code",
   "execution_count": 31,
   "metadata": {
    "collapsed": false
   },
   "outputs": [
    {
     "name": "stdout",
     "output_type": "stream",
     "text": [
      "Got 20 files\n",
      "['3544749_0001.dat', '3544749_0001.hea', '3544749_0002.dat', '3544749_0002.hea', '3544749_0003.dat', '3544749_0003.hea', '3544749_0004.dat', '3544749_0004.hea', '3544749_0005.dat', '3544749_0005.hea', '3544749_0006.dat', '3544749_0006.hea', '3544749_0007.dat', '3544749_0007.hea', '3544749_0008.dat', '3544749_0008.hea', '3544749_layout.hea', '3544749n.dat', 's00020-2567-03-30-17-47.hea', 's00020-2567-03-30-17-47n.hea']\n"
     ]
    }
   ],
   "source": [
    "files = list_page(physioneturl + '/' + folders[0])[5:]\n",
    "print('Got {} files'.format(len(files)))\n",
    "print(files)"
   ]
  },
  {
   "cell_type": "code",
   "execution_count": 45,
   "metadata": {
    "collapsed": false
   },
   "outputs": [],
   "source": [
    "def process_url(f, file_url, file_path):\n",
    "    download_file(file_url, file_path)\n",
    "    h = sha256_checksum(file_path)\n",
    "    s = file_size(file_path)\n",
    "    return f, h, s\n",
    "\n",
    "def download_folder(name, processes):\n",
    "    dir_url = physioneturl + '/' + name\n",
    "    dir_path = output + '/' + name\n",
    "    \n",
    "    create_folder(dir_path)\n",
    "    if name not in db:\n",
    "        db[name] = {}\n",
    "\n",
    "    files_to_dl = []\n",
    "    for f in list_page(dir_url)[5:]:\n",
    "        if f.endswith('hea') or f.endswith('dat'):\n",
    "            file_url = dir_url + '/' + f\n",
    "            file_path = dir_path + '/' + f\n",
    "            \n",
    "            # Check local existance\n",
    "            if file_exists(file_path):\n",
    "                if f in db[name]:\n",
    "                    continue\n",
    "                    \n",
    "            delete_file(file_path)\n",
    "            files_to_dl.append((f, file_url, file_path))\n",
    "            \n",
    "    pool = multiprocessing.Pool(processes=processes) # how much parallelism?\n",
    "    try:\n",
    "        res = pool.starmap(process_url, files_to_dl)\n",
    "    except:\n",
    "        for _, _, fp in files_to_dl:\n",
    "            delete_file(fp)\n",
    "        raise\n",
    "    total_size = 0\n",
    "    total_dl = 0\n",
    "    for f, h, s in res:\n",
    "        total_size += s\n",
    "        db[name][f] = {\n",
    "            'hash': h,\n",
    "            'size': s\n",
    "        }\n",
    "        total_dl += 1\n",
    "    return total_size, total_dl\n",
    "    "
   ]
  },
  {
   "cell_type": "code",
   "execution_count": 46,
   "metadata": {
    "collapsed": false,
    "scrolled": false
   },
   "outputs": [
    {
     "name": "stdout",
     "output_type": "stream",
     "text": [
      "Downloading s00001... Done! 0/40 files downloaded/updated (0.0B in 0.74561s: 0.0B/s)\n",
      "Downloading s00020... Done! 0/20 files downloaded/updated (0.0B in 0.707867s: 0.0B/s)\n",
      "Downloading s00033... Done! 0/16 files downloaded/updated (0.0B in 0.674795s: 0.0B/s)\n",
      "Downloading s00052... Done! 0/56 files downloaded/updated (0.0B in 0.711819s: 0.0B/s)\n",
      "Downloading s00076... Done! 0/28 files downloaded/updated (0.0B in 0.698597s: 0.0B/s)\n",
      "Downloading s00079... Done! 0/78 files downloaded/updated (0.0B in 0.75301s: 0.0B/s)\n",
      "Downloading s00123... Done! 0/48 files downloaded/updated (0.0B in 0.759291s: 0.0B/s)\n",
      "Downloading s00124... Done! 0/308 files downloaded/updated (0.0B in 0.957151s: 0.0B/s)\n",
      "Downloading s00135... Done! 22/22 files downloaded/updated (14.7MiB in 8.144163s: 1.8MiB/s)\n",
      "Downloading s00138... Done! 18/18 files downloaded/updated (25.8MiB in 40.477841s: 652.0KiB/s)\n",
      "Downloading s00151... Done! 128/128 files downloaded/updated (195.5MiB in 145.757905s: 1.3MiB/s)\n",
      "Downloading s00175... Done! 2/2 files downloaded/updated (14.6KiB in 1.618067s: 9.0KiB/s)\n",
      "Downloading s00177... Done! 46/46 files downloaded/updated (32.8MiB in 21.803956s: 1.5MiB/s)\n",
      "Downloading s00184... Done! 4/4 files downloaded/updated (17.6KiB in 1.699903s: 10.4KiB/s)\n",
      "Downloading s00194... Done! 12/12 files downloaded/updated (11.6MiB in 9.635267s: 1.2MiB/s)\n",
      "Downloading s00208... Done! 80/80 files downloaded/updated (51.7MiB in 25.445756s: 2.0MiB/s)\n",
      "Downloading s00214... Done! 38/38 files downloaded/updated (103.4MiB in 47.934637s: 2.2MiB/s)\n",
      "Downloading s00217... Done! 22/22 files downloaded/updated (28.8MiB in 25.425994s: 1.1MiB/s)\n",
      "Downloading s00262... Done! 52/52 files downloaded/updated (133.6MiB in 85.784105s: 1.6MiB/s)\n",
      "Downloading s00263... Done! 264/264 files downloaded/updated (66.0MiB in 135.697039s: 497.9KiB/s)\n",
      "Downloading s00271... Done! 2/2 files downloaded/updated (5.5KiB in 3.183462s: 1.7KiB/s)\n",
      "Downloading s00279... Done! 106/106 files downloaded/updated (78.2MiB in 147.550742s: 542.5KiB/s)\n",
      "Downloading s00283... Done! 76/76 files downloaded/updated (23.3MiB in 20.854913s: 1.1MiB/s)\n",
      "Downloading s00292... Done! 62/62 files downloaded/updated (20.8MiB in 25.603794s: 831.0KiB/s)\n",
      "Downloading s00302..."
     ]
    },
    {
     "ename": "ProxyError",
     "evalue": "None: Max retries exceeded with url: /physiobank/database/mimic2wdb/matched/s00302/3967145_0044.hea (Caused by None)",
     "output_type": "error",
     "traceback": [
      "\u001b[0;31m---------------------------------------------------------------------------\u001b[0m",
      "\u001b[0;31mRemoteTraceback\u001b[0m                           Traceback (most recent call last)",
      "\u001b[0;31mRemoteTraceback\u001b[0m: \n\"\"\"\nTraceback (most recent call last):\n  File \"/home/jdu/apps/anaconda3-4.3.0/lib/python3.6/site-packages/requests/packages/urllib3/connectionpool.py\", line 594, in urlopen\n    self._prepare_proxy(conn)\n  File \"/home/jdu/apps/anaconda3-4.3.0/lib/python3.6/site-packages/requests/packages/urllib3/connectionpool.py\", line 810, in _prepare_proxy\n    conn.connect()\n  File \"/home/jdu/apps/anaconda3-4.3.0/lib/python3.6/site-packages/requests/packages/urllib3/connection.py\", line 294, in connect\n    self._tunnel()\n  File \"/home/jdu/apps/anaconda3-4.3.0/lib/python3.6/http/client.py\", line 919, in _tunnel\n    message.strip()))\nOSError: Tunnel connection failed: 407 Proxy Authentication Required\n\nDuring handling of the above exception, another exception occurred:\n\nTraceback (most recent call last):\n  File \"/home/jdu/apps/anaconda3-4.3.0/lib/python3.6/site-packages/requests/adapters.py\", line 423, in send\n    timeout=timeout\n  File \"/home/jdu/apps/anaconda3-4.3.0/lib/python3.6/site-packages/requests/packages/urllib3/connectionpool.py\", line 649, in urlopen\n    _stacktrace=sys.exc_info()[2])\n  File \"/home/jdu/apps/anaconda3-4.3.0/lib/python3.6/site-packages/requests/packages/urllib3/util/retry.py\", line 376, in increment\n    raise MaxRetryError(_pool, url, error or ResponseError(cause))\nrequests.packages.urllib3.exceptions.MaxRetryError: HTTPSConnectionPool(host='physionet.org', port=443): Max retries exceeded with url: /physiobank/database/mimic2wdb/matched/s00302/3967145_0044.hea (Caused by ProxyError('Cannot connect to proxy.', OSError('Tunnel connection failed: 407 Proxy Authentication Required',)))\n\nDuring handling of the above exception, another exception occurred:\n\nTraceback (most recent call last):\n  File \"/home/jdu/apps/anaconda3-4.3.0/lib/python3.6/multiprocessing/pool.py\", line 119, in worker\n    result = (True, func(*args, **kwds))\n  File \"/home/jdu/apps/anaconda3-4.3.0/lib/python3.6/multiprocessing/pool.py\", line 47, in starmapstar\n    return list(itertools.starmap(args[0], args[1]))\n  File \"<ipython-input-45-ac8ebdc2721b>\", line 2, in process_url\n    download_file(file_url, file_path)\n  File \"/home/jdu/projects/mimic-wfdb/file_utils.py\", line 62, in download_file\n    r = requests.get(url, stream=True)\n  File \"/home/jdu/apps/anaconda3-4.3.0/lib/python3.6/site-packages/requests/api.py\", line 70, in get\n    return request('get', url, params=params, **kwargs)\n  File \"/home/jdu/apps/anaconda3-4.3.0/lib/python3.6/site-packages/requests/api.py\", line 56, in request\n    return session.request(method=method, url=url, **kwargs)\n  File \"/home/jdu/apps/anaconda3-4.3.0/lib/python3.6/site-packages/requests/sessions.py\", line 488, in request\n    resp = self.send(prep, **send_kwargs)\n  File \"/home/jdu/apps/anaconda3-4.3.0/lib/python3.6/site-packages/requests/sessions.py\", line 609, in send\n    r = adapter.send(request, **kwargs)\n  File \"/home/jdu/apps/anaconda3-4.3.0/lib/python3.6/site-packages/requests/adapters.py\", line 485, in send\n    raise ProxyError(e, request=request)\nrequests.exceptions.ProxyError: HTTPSConnectionPool(host='physionet.org', port=443): Max retries exceeded with url: /physiobank/database/mimic2wdb/matched/s00302/3967145_0044.hea (Caused by ProxyError('Cannot connect to proxy.', OSError('Tunnel connection failed: 407 Proxy Authentication Required',)))\n\"\"\"",
      "\nThe above exception was the direct cause of the following exception:\n",
      "\u001b[0;31mProxyError\u001b[0m                                Traceback (most recent call last)",
      "\u001b[0;32m<ipython-input-46-1aed81c072a1>\u001b[0m in \u001b[0;36m<module>\u001b[0;34m()\u001b[0m\n\u001b[1;32m      3\u001b[0m     \u001b[0mstart\u001b[0m \u001b[0;34m=\u001b[0m \u001b[0mdatetime\u001b[0m\u001b[0;34m.\u001b[0m\u001b[0mdatetime\u001b[0m\u001b[0;34m.\u001b[0m\u001b[0mnow\u001b[0m\u001b[0;34m(\u001b[0m\u001b[0;34m)\u001b[0m\u001b[0;34m\u001b[0m\u001b[0m\n\u001b[1;32m      4\u001b[0m     \u001b[0mprint\u001b[0m\u001b[0;34m(\u001b[0m\u001b[0;34m'Downloading {}...'\u001b[0m\u001b[0;34m.\u001b[0m\u001b[0mformat\u001b[0m\u001b[0;34m(\u001b[0m\u001b[0mk\u001b[0m\u001b[0;34m)\u001b[0m\u001b[0;34m,\u001b[0m \u001b[0mend\u001b[0m\u001b[0;34m=\u001b[0m\u001b[0;34m''\u001b[0m\u001b[0;34m)\u001b[0m\u001b[0;34m\u001b[0m\u001b[0m\n\u001b[0;32m----> 5\u001b[0;31m     \u001b[0ms\u001b[0m\u001b[0;34m,\u001b[0m \u001b[0mdl\u001b[0m \u001b[0;34m=\u001b[0m \u001b[0mdownload_folder\u001b[0m\u001b[0;34m(\u001b[0m\u001b[0mk\u001b[0m\u001b[0;34m,\u001b[0m \u001b[0;36m4\u001b[0m\u001b[0;34m)\u001b[0m\u001b[0;34m\u001b[0m\u001b[0m\n\u001b[0m\u001b[1;32m      6\u001b[0m     \u001b[0melapsed\u001b[0m \u001b[0;34m=\u001b[0m \u001b[0mdatetime\u001b[0m\u001b[0;34m.\u001b[0m\u001b[0mdatetime\u001b[0m\u001b[0;34m.\u001b[0m\u001b[0mnow\u001b[0m\u001b[0;34m(\u001b[0m\u001b[0;34m)\u001b[0m \u001b[0;34m-\u001b[0m \u001b[0mstart\u001b[0m\u001b[0;34m\u001b[0m\u001b[0m\n\u001b[1;32m      7\u001b[0m     \u001b[0mtotal_sec\u001b[0m \u001b[0;34m=\u001b[0m \u001b[0melapsed\u001b[0m\u001b[0;34m.\u001b[0m\u001b[0mseconds\u001b[0m \u001b[0;34m+\u001b[0m \u001b[0melapsed\u001b[0m\u001b[0;34m.\u001b[0m\u001b[0mmicroseconds\u001b[0m \u001b[0;34m/\u001b[0m \u001b[0;36m1000000\u001b[0m\u001b[0;34m\u001b[0m\u001b[0m\n",
      "\u001b[0;32m<ipython-input-45-ac8ebdc2721b>\u001b[0m in \u001b[0;36mdownload_folder\u001b[0;34m(name, processes)\u001b[0m\n\u001b[1;32m     29\u001b[0m     \u001b[0mpool\u001b[0m \u001b[0;34m=\u001b[0m \u001b[0mmultiprocessing\u001b[0m\u001b[0;34m.\u001b[0m\u001b[0mPool\u001b[0m\u001b[0;34m(\u001b[0m\u001b[0mprocesses\u001b[0m\u001b[0;34m=\u001b[0m\u001b[0mprocesses\u001b[0m\u001b[0;34m)\u001b[0m \u001b[0;31m# how much parallelism?\u001b[0m\u001b[0;34m\u001b[0m\u001b[0m\n\u001b[1;32m     30\u001b[0m     \u001b[0;32mtry\u001b[0m\u001b[0;34m:\u001b[0m\u001b[0;34m\u001b[0m\u001b[0m\n\u001b[0;32m---> 31\u001b[0;31m         \u001b[0mres\u001b[0m \u001b[0;34m=\u001b[0m \u001b[0mpool\u001b[0m\u001b[0;34m.\u001b[0m\u001b[0mstarmap\u001b[0m\u001b[0;34m(\u001b[0m\u001b[0mprocess_url\u001b[0m\u001b[0;34m,\u001b[0m \u001b[0mfiles_to_dl\u001b[0m\u001b[0;34m)\u001b[0m\u001b[0;34m\u001b[0m\u001b[0m\n\u001b[0m\u001b[1;32m     32\u001b[0m     \u001b[0;32mexcept\u001b[0m\u001b[0;34m:\u001b[0m\u001b[0;34m\u001b[0m\u001b[0m\n\u001b[1;32m     33\u001b[0m         \u001b[0;32mfor\u001b[0m \u001b[0m_\u001b[0m\u001b[0;34m,\u001b[0m \u001b[0m_\u001b[0m\u001b[0;34m,\u001b[0m \u001b[0mfp\u001b[0m \u001b[0;32min\u001b[0m \u001b[0mfiles_to_dl\u001b[0m\u001b[0;34m:\u001b[0m\u001b[0;34m\u001b[0m\u001b[0m\n",
      "\u001b[0;32m/home/jdu/apps/anaconda3-4.3.0/lib/python3.6/multiprocessing/pool.py\u001b[0m in \u001b[0;36mstarmap\u001b[0;34m(self, func, iterable, chunksize)\u001b[0m\n\u001b[1;32m    266\u001b[0m         \u001b[0;31m`\u001b[0m\u001b[0mfunc\u001b[0m\u001b[0;31m`\u001b[0m \u001b[0;32mand\u001b[0m \u001b[0;34m(\u001b[0m\u001b[0ma\u001b[0m\u001b[0;34m,\u001b[0m \u001b[0mb\u001b[0m\u001b[0;34m)\u001b[0m \u001b[0mbecomes\u001b[0m \u001b[0mfunc\u001b[0m\u001b[0;34m(\u001b[0m\u001b[0ma\u001b[0m\u001b[0;34m,\u001b[0m \u001b[0mb\u001b[0m\u001b[0;34m)\u001b[0m\u001b[0;34m.\u001b[0m\u001b[0;34m\u001b[0m\u001b[0m\n\u001b[1;32m    267\u001b[0m         '''\n\u001b[0;32m--> 268\u001b[0;31m         \u001b[0;32mreturn\u001b[0m \u001b[0mself\u001b[0m\u001b[0;34m.\u001b[0m\u001b[0m_map_async\u001b[0m\u001b[0;34m(\u001b[0m\u001b[0mfunc\u001b[0m\u001b[0;34m,\u001b[0m \u001b[0miterable\u001b[0m\u001b[0;34m,\u001b[0m \u001b[0mstarmapstar\u001b[0m\u001b[0;34m,\u001b[0m \u001b[0mchunksize\u001b[0m\u001b[0;34m)\u001b[0m\u001b[0;34m.\u001b[0m\u001b[0mget\u001b[0m\u001b[0;34m(\u001b[0m\u001b[0;34m)\u001b[0m\u001b[0;34m\u001b[0m\u001b[0m\n\u001b[0m\u001b[1;32m    269\u001b[0m \u001b[0;34m\u001b[0m\u001b[0m\n\u001b[1;32m    270\u001b[0m     def starmap_async(self, func, iterable, chunksize=None, callback=None,\n",
      "\u001b[0;32m/home/jdu/apps/anaconda3-4.3.0/lib/python3.6/multiprocessing/pool.py\u001b[0m in \u001b[0;36mget\u001b[0;34m(self, timeout)\u001b[0m\n\u001b[1;32m    606\u001b[0m             \u001b[0;32mreturn\u001b[0m \u001b[0mself\u001b[0m\u001b[0;34m.\u001b[0m\u001b[0m_value\u001b[0m\u001b[0;34m\u001b[0m\u001b[0m\n\u001b[1;32m    607\u001b[0m         \u001b[0;32melse\u001b[0m\u001b[0;34m:\u001b[0m\u001b[0;34m\u001b[0m\u001b[0m\n\u001b[0;32m--> 608\u001b[0;31m             \u001b[0;32mraise\u001b[0m \u001b[0mself\u001b[0m\u001b[0;34m.\u001b[0m\u001b[0m_value\u001b[0m\u001b[0;34m\u001b[0m\u001b[0m\n\u001b[0m\u001b[1;32m    609\u001b[0m \u001b[0;34m\u001b[0m\u001b[0m\n\u001b[1;32m    610\u001b[0m     \u001b[0;32mdef\u001b[0m \u001b[0m_set\u001b[0m\u001b[0;34m(\u001b[0m\u001b[0mself\u001b[0m\u001b[0;34m,\u001b[0m \u001b[0mi\u001b[0m\u001b[0;34m,\u001b[0m \u001b[0mobj\u001b[0m\u001b[0;34m)\u001b[0m\u001b[0;34m:\u001b[0m\u001b[0;34m\u001b[0m\u001b[0m\n",
      "\u001b[0;31mProxyError\u001b[0m: None: Max retries exceeded with url: /physiobank/database/mimic2wdb/matched/s00302/3967145_0044.hea (Caused by None)"
     ]
    }
   ],
   "source": [
    "size = 0\n",
    "for k in folders:\n",
    "    start = datetime.datetime.now()\n",
    "    print('Downloading {}...'.format(k), end='')\n",
    "    s, dl = download_folder(k, 4)\n",
    "    elapsed = datetime.datetime.now() - start\n",
    "    total_sec = elapsed.seconds + elapsed.microseconds / 1000000\n",
    "    print(' Done! {}/{} files downloaded/updated ({} in {}s: {}/s)'.format(\n",
    "        dl,\n",
    "        len(db[k]),\n",
    "        sizeof_fmt(s),\n",
    "        total_sec,\n",
    "        sizeof_fmt(s/total_sec)\n",
    "    ))\n",
    "    \n",
    "    \n",
    "    if size > 100 * 1024**3:\n",
    "        break"
   ]
  },
  {
   "cell_type": "code",
   "execution_count": null,
   "metadata": {
    "collapsed": false
   },
   "outputs": [],
   "source": [
    "c = 0\n",
    "for k in folders:\n",
    "    sha256 = requests.get(physioneturl + '/' + k + '/SHA256SUMS').text\n",
    "    for l in sha256.splitlines():\n",
    "        h, f = l.split('  ')\n",
    "        if not f.endswith('hea') and not f.endswith('dat'):\n",
    "            continue\n",
    "        c += 1\n",
    "    print(c, end=\"\\r\")\n",
    "print(c)"
   ]
  },
  {
   "cell_type": "code",
   "execution_count": null,
   "metadata": {
    "collapsed": true
   },
   "outputs": [],
   "source": []
  }
 ],
 "metadata": {
  "kernelspec": {
   "display_name": "Python 3",
   "language": "python",
   "name": "python3"
  },
  "language_info": {
   "codemirror_mode": {
    "name": "ipython",
    "version": 3
   },
   "file_extension": ".py",
   "mimetype": "text/x-python",
   "name": "python",
   "nbconvert_exporter": "python",
   "pygments_lexer": "ipython3",
   "version": "3.6.0"
  }
 },
 "nbformat": 4,
 "nbformat_minor": 2
}
